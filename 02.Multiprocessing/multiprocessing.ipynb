{
 "cells": [
  {
   "attachments": {},
   "cell_type": "markdown",
   "metadata": {},
   "source": [
    "Le multiprocessing, également connu sous le nom de multiprocessus, est une technique de traitement dans laquelle plusieurs processus sont exécutés simultanément sur un système informatique doté de plusieurs unités de traitement (par exemple, plusieurs cœurs de processeur).\n",
    "\n",
    "En d'autres termes, le multiprocessing permet d'exécuter plusieurs tâches ou processus en parallèle sur un système. Chaque processus dispose de son propre espace d'adressage et de ses propres ressources, et peut être exécuté indépendamment des autres processus. Cela permet d'améliorer l'efficacité et les performances globales du système, car les différentes tâches peuvent être réparties sur plusieurs unités de traitement pour être exécutées en même temps.\n",
    "\n",
    "Le multiprocessing peut être utilisé pour exécuter des applications intensives en calcul, des serveurs web, des serveurs de bases de données et d'autres types de charges de travail qui peuvent bénéficier de l'exécution simultanée de plusieurs processus. Il est particulièrement utile sur les systèmes dotés de plusieurs cœurs de processeur, car chaque cœur peut être utilisé pour exécuter un processus différent.\n",
    "\n",
    "Il convient de noter que le multiprocessing diffère du multitâche, qui est une technique de traitement dans laquelle plusieurs tâches sont exécutées sur un seul processeur en utilisant des interruptions et des commutations de contexte. Le multiprocessing nécessite un matériel spécifique, tel que des processeurs multicœurs ou des systèmes multiprocesseurs, pour permettre l'exécution réelle de plusieurs processus simultanément."
   ]
  },
  {
   "cell_type": "code",
   "execution_count": 18,
   "metadata": {},
   "outputs": [],
   "source": [
    "import os"
   ]
  },
  {
   "cell_type": "code",
   "execution_count": 1,
   "metadata": {},
   "outputs": [],
   "source": [
    "def print_cube(num):\n",
    "    print(os.getpid())\n",
    "    print(\"Cube : {}\".format(num * num * num))\n",
    "\n",
    "def print_square(num):\n",
    "    print(os.getpid())\n",
    "    print(\"Square : {}\".format(num * num))\n",
    "    "
   ]
  },
  {
   "cell_type": "code",
   "execution_count": 2,
   "metadata": {},
   "outputs": [
    {
     "name": "stdout",
     "output_type": "stream",
     "text": [
      "Cube : 27\n"
     ]
    }
   ],
   "source": [
    "print_cube(3)"
   ]
  },
  {
   "cell_type": "code",
   "execution_count": 3,
   "metadata": {},
   "outputs": [
    {
     "name": "stdout",
     "output_type": "stream",
     "text": [
      "Square : 4\n"
     ]
    }
   ],
   "source": [
    "print_square(2)"
   ]
  },
  {
   "cell_type": "code",
   "execution_count": 4,
   "metadata": {},
   "outputs": [],
   "source": [
    "import multiprocessing "
   ]
  },
  {
   "cell_type": "code",
   "execution_count": 5,
   "metadata": {},
   "outputs": [
    {
     "data": {
      "text/plain": [
       "4"
      ]
     },
     "execution_count": 5,
     "metadata": {},
     "output_type": "execute_result"
    }
   ],
   "source": [
    "multiprocessing.cpu_count()"
   ]
  },
  {
   "cell_type": "code",
   "execution_count": 13,
   "metadata": {},
   "outputs": [],
   "source": [
    "p1 = multiprocessing.Process(target=print_cube, args=(3,))\n",
    "p2 = multiprocessing.Process(target=print_square, args=(4,))\n"
   ]
  },
  {
   "cell_type": "code",
   "execution_count": 17,
   "metadata": {},
   "outputs": [
    {
     "data": {
      "text/plain": [
       "False"
      ]
     },
     "execution_count": 17,
     "metadata": {},
     "output_type": "execute_result"
    }
   ],
   "source": [
    "p1.is_alive()"
   ]
  },
  {
   "cell_type": "code",
   "execution_count": 14,
   "metadata": {},
   "outputs": [],
   "source": [
    "p1.start()\n",
    "p2.start()\n",
    "\n",
    "p1.join()\n",
    "p2.join()"
   ]
  },
  {
   "cell_type": "code",
   "execution_count": 16,
   "metadata": {},
   "outputs": [
    {
     "data": {
      "text/plain": [
       "False"
      ]
     },
     "execution_count": 16,
     "metadata": {},
     "output_type": "execute_result"
    }
   ],
   "source": [
    "p1.is_alive()"
   ]
  }
 ],
 "metadata": {
  "kernelspec": {
   "display_name": "Python 3",
   "language": "python",
   "name": "python3"
  },
  "language_info": {
   "codemirror_mode": {
    "name": "ipython",
    "version": 3
   },
   "file_extension": ".py",
   "mimetype": "text/x-python",
   "name": "python",
   "nbconvert_exporter": "python",
   "pygments_lexer": "ipython3",
   "version": "3.11.3"
  },
  "orig_nbformat": 4
 },
 "nbformat": 4,
 "nbformat_minor": 2
}
