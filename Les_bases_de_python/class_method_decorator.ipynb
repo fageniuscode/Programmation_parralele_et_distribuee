{
 "cells": [
  {
   "cell_type": "code",
   "execution_count": 4,
   "metadata": {},
   "outputs": [],
   "source": [
    "class Student:\n",
    "    def __init__(self, name, age, roll_n):\n",
    "        self.name = name\n",
    "        self.age = age\n",
    "        self.roll_n = roll_n\n",
    "\n",
    "    @classmethod\n",
    "    def from_dicts(cls, data):\n",
    "        students = []\n",
    "        for row in data:\n",
    "            student = cls(row[\"name\"], row['age'], row['roll_n'])\n",
    "            students.append(student)\n",
    "            return students"
   ]
  },
  {
   "cell_type": "code",
   "execution_count": 8,
   "metadata": {},
   "outputs": [],
   "source": [
    "s = Student(\"Faye\", 20, 3298)"
   ]
  },
  {
   "cell_type": "code",
   "execution_count": 9,
   "metadata": {},
   "outputs": [
    {
     "data": {
      "text/plain": [
       "'Faye'"
      ]
     },
     "execution_count": 9,
     "metadata": {},
     "output_type": "execute_result"
    }
   ],
   "source": [
    "s.name"
   ]
  },
  {
   "cell_type": "code",
   "execution_count": 10,
   "metadata": {},
   "outputs": [],
   "source": [
    "data = [\n",
    "    {\n",
    "        \"name\": \"Faye\",\n",
    "        \"age\": 21,\n",
    "        \"roll_n\": 2234\n",
    "    },\n",
    "    {\n",
    "        \"name\": \"Diallo\",\n",
    "        \"age\": 21,\n",
    "        \"roll_n\": 4234\n",
    "    },\n",
    "    {\n",
    "        \"name\": \"Ndao\",\n",
    "        \"age\": 22,\n",
    "        \"roll_n\": 9234\n",
    "    },\n",
    "    {\n",
    "        \"name\": \"DIENE\",\n",
    "        \"age\": 28,\n",
    "        \"roll_n\": 8234\n",
    "    }\n",
    "]"
   ]
  },
  {
   "cell_type": "code",
   "execution_count": 11,
   "metadata": {},
   "outputs": [],
   "source": [
    "students = Student.from_dicts(data)"
   ]
  },
  {
   "cell_type": "code",
   "execution_count": 12,
   "metadata": {},
   "outputs": [
    {
     "data": {
      "text/plain": [
       "'Faye'"
      ]
     },
     "execution_count": 12,
     "metadata": {},
     "output_type": "execute_result"
    }
   ],
   "source": [
    "students[0].name"
   ]
  }
 ],
 "metadata": {
  "kernelspec": {
   "display_name": "Python 3",
   "language": "python",
   "name": "python3"
  },
  "language_info": {
   "codemirror_mode": {
    "name": "ipython",
    "version": 3
   },
   "file_extension": ".py",
   "mimetype": "text/x-python",
   "name": "python",
   "nbconvert_exporter": "python",
   "pygments_lexer": "ipython3",
   "version": "3.11.3"
  },
  "orig_nbformat": 4
 },
 "nbformat": 4,
 "nbformat_minor": 2
}
